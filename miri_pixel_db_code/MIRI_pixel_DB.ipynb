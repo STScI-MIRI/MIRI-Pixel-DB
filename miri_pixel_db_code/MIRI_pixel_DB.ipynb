{
 "cells": [
  {
   "cell_type": "markdown",
   "metadata": {},
   "source": [
    "# Interacting with the Miri Pixel DB with Jupyter Notebook"
   ]
  },
  {
   "cell_type": "code",
   "execution_count": null,
   "metadata": {
    "ExecuteTime": {
     "end_time": "2020-01-14T17:16:14.554258Z",
     "start_time": "2020-01-14T17:16:14.299685Z"
    }
   },
   "outputs": [],
   "source": [
    "\"\"\" Import packages\"\"\"\n",
    "from miridb import init_db, cancel_active_queries, delete_table, load_miri_tables, load_engine, enter_psql_command, get_size_of_table\n",
    "import keyring, os"
   ]
  },
  {
   "cell_type": "code",
   "execution_count": null,
   "metadata": {},
   "outputs": [],
   "source": [
    "engine = load_engine()"
   ]
  },
  {
   "cell_type": "code",
   "execution_count": null,
   "metadata": {},
   "outputs": [],
   "source": [
    "\"\"\" Get name of current database\"\"\"\n",
    "psql_string = \"\"\"SELECT current_database();\"\"\"\n",
    "print(enter_psql_command(engine, psql_string))\n",
    "\n",
    "\"\"\" List tables defined in database \"\"\"\n",
    "table_names = engine.table_names()\n",
    "print(table_names)"
   ]
  },
  {
   "cell_type": "code",
   "execution_count": null,
   "metadata": {},
   "outputs": [],
   "source": [
    "\"\"\" Load objects for connecting to the DB\"\"\"\n",
    "session, base, connection, cursor = init_db(engine)"
   ]
  },
  {
   "cell_type": "code",
   "execution_count": null,
   "metadata": {},
   "outputs": [],
   "source": [
    "\"\"\" Lines to load in table definions and create the tables in the DB\"\"\"\n",
    "load_miri_tables(base) \n",
    "base.metadata.create_all()"
   ]
  },
  {
   "cell_type": "code",
   "execution_count": null,
   "metadata": {
    "ExecuteTime": {
     "start_time": "2020-01-14T16:47:25.624Z"
    }
   },
   "outputs": [],
   "source": [
    "\"\"\" Lines to delete all the tables in DB - need to be in this order because of key constraints\"\"\" \n",
    "nuke_everything = True\n",
    "if nuke_everything:\n",
    "    delete_table('correctedgroups', password, base)\n",
    "    delete_table('groups', password, base)\n",
    "    delete_table('correctedramps', password, base)\n",
    "    delete_table('ramps', password, base)\n",
    "    delete_table('correctedexposures', password, base)\n",
    "    delete_table('exposures', password, base)\n",
    "    delete_table('detectors', password, base)\n",
    "    delete_table('pixels', password, base)"
   ]
  },
  {
   "cell_type": "code",
   "execution_count": null,
   "metadata": {
    "ExecuteTime": {
     "end_time": "2020-01-14T16:33:38.142728Z",
     "start_time": "2020-01-14T16:33:38.115581Z"
    }
   },
   "outputs": [],
   "source": [
    "\"\"\" Get size of the miri_pixel_db\"\"\"\n",
    "psql_string = 'SELECT pg_size_pretty( pg_database_size(\\'miri_pixel_db\\') )'\n",
    "print(enter_psql_command(engine, psql_string))\n",
    "dict(zip(table_names,[get_size_of_table(engine, table_name) for table_name in table_names]))"
   ]
  },
  {
   "cell_type": "code",
   "execution_count": null,
   "metadata": {},
   "outputs": [],
   "source": [
    "### View long running queries\n",
    "### The first returned column is the process id, the second is duration, following the query and state of this activity.\n",
    "### If state is idle you don’t need to worry about it, but active queries may be the reason behind low performances on your database.\n",
    "psql_string = \"\"\"SELECT\n",
    "      pid,\n",
    "      now() - pg_stat_activity.query_start AS duration,\n",
    "      query,\n",
    "      state\n",
    "    FROM pg_stat_activity\n",
    "    WHERE (now() - pg_stat_activity.query_start) > interval '20 seconds';\"\"\"\n",
    "out = enter_psql_command(engine, psql_string)\n",
    "print(out)"
   ]
  },
  {
   "cell_type": "code",
   "execution_count": null,
   "metadata": {},
   "outputs": [],
   "source": [
    "\"\"\" Cancel any active queries that are stuck\"\"\"\n",
    "cancel_active_queries(engine)"
   ]
  },
  {
   "cell_type": "code",
   "execution_count": null,
   "metadata": {},
   "outputs": [],
   "source": [
    "### kill different states\n",
    "state = 'idle in transaction'\n",
    "psql_string = \"\"\"SELECT pg_terminate_backend(pid) \n",
    "FROM pg_stat_activity \n",
    "WHERE datname= 'miri_pixel_db'\n",
    "  AND state = \\'\"\"\" + state + '\\''\n",
    "enter_psql_command(engine, psql_string)"
   ]
  },
  {
   "cell_type": "markdown",
   "metadata": {},
   "source": [
    "## Selecting Files from JPL8 to Insert into DB"
   ]
  },
  {
   "cell_type": "code",
   "execution_count": null,
   "metadata": {},
   "outputs": [],
   "source": [
    "import glob\n",
    "import numpy as np\n",
    "import os\n",
    "from exposuresdb import complement\n",
    "import itertools"
   ]
  },
  {
   "cell_type": "code",
   "execution_count": null,
   "metadata": {},
   "outputs": [],
   "source": [
    "jpl8_dir = '***********' ### get this directory location from developers\n",
    "data_dirs = [\n",
    " jpl8_dir + '09_Mode_Switch_no3_pt2/',\n",
    " jpl8_dir + '10_Long_Pers/',\n",
    " #jpl8_dir + '11_All_Subarray/',\n",
    " jpl8_dir + '12_Anneals_pt2/']\n",
    "all_fpm101_fits = [complement(glob.glob(data_dir+'*.fits'),glob.glob(data_dir+'*_LVL2.fits')) for data_dir in data_dirs]\n",
    "complete_file_list = list(itertools.chain.from_iterable(all_fpm101_fits))"
   ]
  },
  {
   "cell_type": "code",
   "execution_count": null,
   "metadata": {},
   "outputs": [],
   "source": [
    "print('Total number of raw exposures to add to DB: ',len(complete_file_list))\n",
    "file_sizes_gb = [os.path.getsize(file)/(10**9) for file in complete_file_list]                                                                                                                                                                                                                                                                                                                                                                                                                                                                                                                                                                                                                                                                                                                                                                                                                                                                                                                                                                                                                                                                                                                                                                                                                                                                                                                                                                                                                                                                                                                                                                                                                                                                                                                                                                                                                                                                                                                                                                                                                                                                                                                                                                                                                                                                                                                                                                                                                                                                                                                                                                                                                                                                                                                                                                                                                                                                                                                                                                                                                                                                                                                                                          \n",
    "print('Size of raw exposure FITS files that will be added to DB: ',sum(file_sizes_gb), 'GB')"
   ]
  },
  {
   "cell_type": "code",
   "execution_count": null,
   "metadata": {},
   "outputs": [],
   "source": [
    "min_file = complete_file_list[file_sizes_gb.index(min(file_sizes_gb))]\n",
    "hdu = fits.open(min_file)\n",
    "print(min_file)\n",
    "# hdu[0].header"
   ]
  },
  {
   "cell_type": "code",
   "execution_count": null,
   "metadata": {},
   "outputs": [],
   "source": [
    "\"\"\" Write list of LVL1 JPL8 FITS files to add to MiriDB\"\"\"\n",
    "with open('../complete_file_list.txt', 'w') as f:\n",
    "    for item in complete_file_list:\n",
    "        f.write(\"%s\\n\" % item)"
   ]
  },
  {
   "cell_type": "markdown",
   "metadata": {},
   "source": [
    "## Generate UML Diagram for MIRI Pixel DB"
   ]
  },
  {
   "cell_type": "code",
   "execution_count": null,
   "metadata": {
    "ExecuteTime": {
     "end_time": "2020-01-14T16:33:53.216274Z",
     "start_time": "2020-01-14T16:33:53.211647Z"
    }
   },
   "outputs": [],
   "source": [
    "import codecs\n",
    "import  sadisplay #needs `pip install sadisplay`\n",
    "from sqlalchemy import Table\n",
    "import os\n",
    "from miridb import load_engine, init_db"
   ]
  },
  {
   "cell_type": "code",
   "execution_count": null,
   "metadata": {
    "ExecuteTime": {
     "end_time": "2020-01-13T21:35:54.930764Z",
     "start_time": "2020-01-13T21:35:54.926359Z"
    }
   },
   "outputs": [],
   "source": [
    "engine = load_engine()\n",
    "session, base, connection, cursor = init_db(engine)\n",
    "table_names = engine.table_names() ### needs `engine` to be defined from first section above\n",
    "all_tables = [Table(table_name,  base.metadata, autoload=True, autoload_with=engine) for table_name in table_names]"
   ]
  },
  {
   "cell_type": "code",
   "execution_count": null,
   "metadata": {},
   "outputs": [],
   "source": [
    "desc = sadisplay.describe(\n",
    "    all_tables,\n",
    "    show_methods=True,\n",
    "    show_properties=True,\n",
    "    show_indexes=True,\n",
    ")\n",
    "with codecs.open('schema.dot', 'w', encoding='utf-8') as f:\n",
    "    f.write(sadisplay.dot(desc))\n",
    "! dot -Tpng schema.dot > ../miri_pixel_db_uml.png\n",
    "os.remove('schema.dot')"
   ]
  }
 ],
 "metadata": {
  "kernelspec": {
   "display_name": "Python 3",
   "language": "python",
   "name": "python3"
  },
  "language_info": {
   "codemirror_mode": {
    "name": "ipython",
    "version": 3
   },
   "file_extension": ".py",
   "mimetype": "text/x-python",
   "name": "python",
   "nbconvert_exporter": "python",
   "pygments_lexer": "ipython3",
   "version": "3.7.4"
  },
  "toc": {
   "base_numbering": 1,
   "nav_menu": {},
   "number_sections": true,
   "sideBar": true,
   "skip_h1_title": false,
   "title_cell": "Table of Contents",
   "title_sidebar": "Contents",
   "toc_cell": false,
   "toc_position": {},
   "toc_section_display": true,
   "toc_window_display": true
  },
  "varInspector": {
   "cols": {
    "lenName": 16,
    "lenType": 16,
    "lenVar": 40
   },
   "kernels_config": {
    "python": {
     "delete_cmd_postfix": "",
     "delete_cmd_prefix": "del ",
     "library": "var_list.py",
     "varRefreshCmd": "print(var_dic_list())"
    },
    "r": {
     "delete_cmd_postfix": ") ",
     "delete_cmd_prefix": "rm(",
     "library": "var_list.r",
     "varRefreshCmd": "cat(var_dic_list()) "
    }
   },
   "types_to_exclude": [
    "module",
    "function",
    "builtin_function_or_method",
    "instance",
    "_Feature"
   ],
   "window_display": false
  }
 },
 "nbformat": 4,
 "nbformat_minor": 4
}
